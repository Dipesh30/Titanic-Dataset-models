{
 "cells": [
  {
   "cell_type": "code",
   "execution_count": 1,
   "metadata": {},
   "outputs": [
    {
     "name": "stderr",
     "output_type": "stream",
     "text": [
      "C:\\ProgramData\\Anaconda3\\lib\\site-packages\\statsmodels\\tools\\_testing.py:19: FutureWarning: pandas.util.testing is deprecated. Use the functions in the public API at pandas.testing instead.\n",
      "  import pandas.util.testing as tm\n"
     ]
    }
   ],
   "source": [
    "import numpy as np\n",
    "import pandas as pd\n",
    "import seaborn as sns\n",
    "import matplotlib.pyplot as plt"
   ]
  },
  {
   "cell_type": "code",
   "execution_count": 2,
   "metadata": {},
   "outputs": [],
   "source": [
    "train_df = pd.read_csv(r\"C:\\Users\\dipes\\Documents\\dataset\\titanic\\train.csv\")\n",
    "test_df = pd.read_csv(r\"C:\\Users\\dipes\\Documents\\dataset\\titanic\\test.csv\")"
   ]
  },
  {
   "cell_type": "code",
   "execution_count": 3,
   "metadata": {},
   "outputs": [],
   "source": [
    "data = [train_df, test_df]\n",
    "for dataset in data:\n",
    "    dataset['Relatives'] = dataset['SibSp'] + dataset['Parch']\n",
    "    dataset.loc[dataset['Relatives']> 0, 'Alone' ] = 'No'\n",
    "    dataset.loc[dataset['Relatives'] == 0, 'Alone'] = 'Yes'\n",
    "    #dataset['Alone'] = dataset['Alone'].astype(int)"
   ]
  },
  {
   "cell_type": "code",
   "execution_count": 4,
   "metadata": {},
   "outputs": [
    {
     "data": {
      "text/plain": [
       "Yes    537\n",
       "No     354\n",
       "Name: Alone, dtype: int64"
      ]
     },
     "execution_count": 4,
     "metadata": {},
     "output_type": "execute_result"
    }
   ],
   "source": [
    "train_df.Alone.value_counts()"
   ]
  },
  {
   "cell_type": "code",
   "execution_count": 5,
   "metadata": {},
   "outputs": [],
   "source": [
    "import re\n",
    "deck = {'A':'A', 'B':'B', 'C':'C', 'D':'D', 'E':'E', 'F':'F', 'G':'G', 'U':'U'}\n",
    "data=[train_df, test_df]\n",
    "for dataset in data:\n",
    "    dataset['Cabin'] = dataset.Cabin.fillna('U0')\n",
    "    dataset['Deck'] = dataset.Cabin.map(lambda x: re.compile(\"([a-zA-Z]+)\").search(x).group())\n",
    "    dataset['Deck'] = dataset['Deck'].map(deck)\n",
    "    dataset['Deck'] = dataset['Deck'].fillna('U')\n",
    "    #dataset['Deck'] = dataset.Deck.astype(int)"
   ]
  },
  {
   "cell_type": "code",
   "execution_count": 6,
   "metadata": {},
   "outputs": [],
   "source": [
    "train_df = train_df.drop(['Cabin'], axis=1)\n",
    "test_df = test_df.drop(['Cabin'], axis=1)"
   ]
  },
  {
   "cell_type": "code",
   "execution_count": 7,
   "metadata": {},
   "outputs": [
    {
     "name": "stdout",
     "output_type": "stream",
     "text": [
      "<class 'pandas.core.frame.DataFrame'>\n",
      "RangeIndex: 891 entries, 0 to 890\n",
      "Data columns (total 14 columns):\n",
      " #   Column       Non-Null Count  Dtype  \n",
      "---  ------       --------------  -----  \n",
      " 0   PassengerId  891 non-null    int64  \n",
      " 1   Survived     891 non-null    int64  \n",
      " 2   Pclass       891 non-null    int64  \n",
      " 3   Name         891 non-null    object \n",
      " 4   Sex          891 non-null    object \n",
      " 5   Age          714 non-null    float64\n",
      " 6   SibSp        891 non-null    int64  \n",
      " 7   Parch        891 non-null    int64  \n",
      " 8   Ticket       891 non-null    object \n",
      " 9   Fare         891 non-null    float64\n",
      " 10  Embarked     889 non-null    object \n",
      " 11  Relatives    891 non-null    int64  \n",
      " 12  Alone        891 non-null    object \n",
      " 13  Deck         891 non-null    object \n",
      "dtypes: float64(2), int64(6), object(6)\n",
      "memory usage: 97.6+ KB\n"
     ]
    }
   ],
   "source": [
    "train_df.info()"
   ]
  },
  {
   "cell_type": "code",
   "execution_count": 8,
   "metadata": {},
   "outputs": [],
   "source": [
    "data = [train_df, test_df]\n",
    "for dataset in data:\n",
    "    mean = train_df['Age'].mean()\n",
    "    std = test_df['Age'].std()\n",
    "    is_null = dataset['Age'].isnull().sum()\n",
    "    rand_age = np.random.randint(mean - std, mean + std, size=is_null)\n",
    "    age_slice = dataset['Age'].copy()\n",
    "    age_slice[np.isnan(age_slice)]= rand_age\n",
    "    dataset['Age'] = age_slice\n",
    "    dataset['Age'] = dataset.Age.astype(int)"
   ]
  },
  {
   "cell_type": "code",
   "execution_count": 9,
   "metadata": {},
   "outputs": [
    {
     "data": {
      "text/plain": [
       "0"
      ]
     },
     "execution_count": 9,
     "metadata": {},
     "output_type": "execute_result"
    }
   ],
   "source": [
    "train_df.Age.isnull().sum()"
   ]
  },
  {
   "cell_type": "code",
   "execution_count": 10,
   "metadata": {},
   "outputs": [],
   "source": [
    "dataset=[train_df, test_df]\n",
    "for dataset in data:\n",
    "    dataset['Embarked'] = dataset['Embarked'].fillna('S')\n",
    "    dataset['Fare'] = dataset['Fare'].fillna(0)\n",
    "    dataset['Fare'] = dataset['Fare'].astype(int)"
   ]
  },
  {
   "cell_type": "code",
   "execution_count": 11,
   "metadata": {},
   "outputs": [
    {
     "name": "stdout",
     "output_type": "stream",
     "text": [
      "<class 'pandas.core.frame.DataFrame'>\n",
      "RangeIndex: 891 entries, 0 to 890\n",
      "Data columns (total 14 columns):\n",
      " #   Column       Non-Null Count  Dtype \n",
      "---  ------       --------------  ----- \n",
      " 0   PassengerId  891 non-null    int64 \n",
      " 1   Survived     891 non-null    int64 \n",
      " 2   Pclass       891 non-null    int64 \n",
      " 3   Name         891 non-null    object\n",
      " 4   Sex          891 non-null    object\n",
      " 5   Age          891 non-null    int32 \n",
      " 6   SibSp        891 non-null    int64 \n",
      " 7   Parch        891 non-null    int64 \n",
      " 8   Ticket       891 non-null    object\n",
      " 9   Fare         891 non-null    int32 \n",
      " 10  Embarked     891 non-null    object\n",
      " 11  Relatives    891 non-null    int64 \n",
      " 12  Alone        891 non-null    object\n",
      " 13  Deck         891 non-null    object\n",
      "dtypes: int32(2), int64(6), object(6)\n",
      "memory usage: 90.6+ KB\n"
     ]
    }
   ],
   "source": [
    "train_df.info()"
   ]
  },
  {
   "cell_type": "code",
   "execution_count": 12,
   "metadata": {},
   "outputs": [],
   "source": [
    "train_df['Title'] = train_df.Name.str.extract(' ([A-Za-z]+)\\.', expand=False)\n",
    "train_df['Title'] = train_df['Title'].replace(['Dr', 'Rev', 'Col', 'Major', 'Lady', 'Countess', 'Don', 'Capt', 'Jonkheer', 'Sir'], 'Rare')\n",
    "train_df['Title'] = train_df['Title'].replace(['Mlle', 'Ms'], 'Miss')\n",
    "train_df['Title'] = train_df['Title'].replace('Mme', 'Mrs')"
   ]
  },
  {
   "cell_type": "code",
   "execution_count": 13,
   "metadata": {},
   "outputs": [
    {
     "data": {
      "text/plain": [
       "Mr        517\n",
       "Miss      185\n",
       "Mrs       126\n",
       "Master     40\n",
       "Rare       23\n",
       "Name: Title, dtype: int64"
      ]
     },
     "execution_count": 13,
     "metadata": {},
     "output_type": "execute_result"
    }
   ],
   "source": [
    "train_df['Title'].value_counts()"
   ]
  },
  {
   "cell_type": "code",
   "execution_count": 14,
   "metadata": {},
   "outputs": [
    {
     "data": {
      "text/plain": [
       "Mr        240\n",
       "Miss       79\n",
       "Mrs        72\n",
       "Master     21\n",
       "Rare        6\n",
       "Name: Title, dtype: int64"
      ]
     },
     "execution_count": 14,
     "metadata": {},
     "output_type": "execute_result"
    }
   ],
   "source": [
    "test_df['Title'] = test_df.Name.str.extract(' ([A-Za-z]+)\\. ', expand=False)\n",
    "test_df['Title']= test_df['Title'].replace(['Col', 'Rev', 'Dona', 'Dr'], 'Rare')\n",
    "test_df['Title']= test_df['Title'].replace('Ms', 'Miss')\n",
    "test_df['Title'].value_counts()"
   ]
  },
  {
   "cell_type": "code",
   "execution_count": 15,
   "metadata": {},
   "outputs": [],
   "source": [
    "train_df = train_df.drop(['Name'], axis=1)\n",
    "test_df = test_df.drop(['Name'], axis=1)"
   ]
  },
  {
   "cell_type": "code",
   "execution_count": 18,
   "metadata": {},
   "outputs": [],
   "source": [
    "data = [train_df, test_df]\n",
    "for dataset in data:\n",
    "    dataset['Age_Class']= dataset['Age']* dataset['Pclass']"
   ]
  },
  {
   "cell_type": "code",
   "execution_count": 19,
   "metadata": {},
   "outputs": [],
   "source": [
    "for dataset in data:\n",
    "    dataset['Fare_Per_Person'] = dataset['Fare']/(dataset['Relatives']+1)\n",
    "    dataset['Fare_Per_Person'] = dataset['Fare_Per_Person'].astype(int)"
   ]
  },
  {
   "cell_type": "code",
   "execution_count": 20,
   "metadata": {},
   "outputs": [
    {
     "data": {
      "text/plain": [
       "Adults          174\n",
       "Senior          147\n",
       "Middle Age      146\n",
       "Young Adults    135\n",
       "Youngsters      117\n",
       "Teens            97\n",
       "Children         68\n",
       "Retired           7\n",
       "Name: Age, dtype: int64"
      ]
     },
     "execution_count": 20,
     "metadata": {},
     "output_type": "execute_result"
    }
   ],
   "source": [
    "data = [train_df, test_df]\n",
    "for dataset in data:\n",
    "    dataset['Age'] = dataset['Age'].astype(int)\n",
    "    dataset.loc[ dataset['Age'] <= 11, 'Age'] = 0\n",
    "    dataset.loc[(dataset['Age'] > 11) & (dataset['Age'] <= 18), 'Age'] = 1\n",
    "    dataset.loc[(dataset['Age'] > 18) & (dataset['Age'] <= 22), 'Age'] = 2\n",
    "    dataset.loc[(dataset['Age'] > 22) & (dataset['Age'] <= 27), 'Age'] = 3\n",
    "    dataset.loc[(dataset['Age'] > 27) & (dataset['Age'] <= 33), 'Age'] = 4\n",
    "    dataset.loc[(dataset['Age'] > 33) & (dataset['Age'] <= 40), 'Age'] = 5\n",
    "    dataset.loc[(dataset['Age'] > 40) & (dataset['Age'] <= 66), 'Age'] = 6\n",
    "    dataset.loc[ dataset['Age'] > 66, 'Age'] = 7\n",
    "    \n",
    "    dataset['Age'] = dataset['Age'].astype(str)\n",
    "    dataset.loc[ dataset['Age'] == '0', 'Age'] = \"Children\"\n",
    "    dataset.loc[ dataset['Age'] == '1', 'Age'] = \"Teens\"\n",
    "    dataset.loc[ dataset['Age'] == '2', 'Age'] = \"Youngsters\"\n",
    "    dataset.loc[ dataset['Age'] == '3', 'Age'] = \"Young Adults\"\n",
    "    dataset.loc[ dataset['Age'] == '4', 'Age'] = \"Adults\"\n",
    "    dataset.loc[ dataset['Age'] == '5', 'Age'] = \"Middle Age\"\n",
    "    dataset.loc[ dataset['Age'] == '6', 'Age'] = \"Senior\"\n",
    "    dataset.loc[ dataset['Age'] == '7', 'Age'] = \"Retired\"\n",
    "\n",
    "# let's see how it's distributed \n",
    "train_df['Age'].value_counts()"
   ]
  },
  {
   "cell_type": "code",
   "execution_count": 21,
   "metadata": {},
   "outputs": [],
   "source": [
    "data = [train_df, test_df]\n",
    "\n",
    "for dataset in data:\n",
    "    dataset.loc[ dataset['Fare'] <= 7.91, 'Fare'] = 0\n",
    "    dataset.loc[(dataset['Fare'] > 7.91) & (dataset['Fare'] <= 14.454), 'Fare'] = 1\n",
    "    dataset.loc[(dataset['Fare'] > 14.454) & (dataset['Fare'] <= 31), 'Fare']   = 2\n",
    "    dataset.loc[(dataset['Fare'] > 31) & (dataset['Fare'] <= 99), 'Fare']   = 3\n",
    "    dataset.loc[(dataset['Fare'] > 99) & (dataset['Fare'] <= 250), 'Fare']   = 4\n",
    "    dataset.loc[ dataset['Fare'] > 250, 'Fare'] = 5\n",
    "    dataset['Fare'] = dataset['Fare'].astype(int)\n",
    "    \n",
    "    dataset['Fare'] = dataset['Fare'].astype(str)\n",
    "    dataset.loc[ dataset['Fare'] == '0', 'Fare'] = \"Extremely Low\"\n",
    "    dataset.loc[ dataset['Fare'] == '1', 'Fare'] = \"Very Low\"\n",
    "    dataset.loc[ dataset['Fare'] == '2', 'Fare'] = \"Low\"\n",
    "    dataset.loc[ dataset['Fare'] == '3', 'Fare'] = \"High\"\n",
    "    dataset.loc[ dataset['Fare'] == '4', 'Fare'] = \"Very High\"\n",
    "    dataset.loc[ dataset['Fare'] == '5', 'Fare'] = \"Extremely High\""
   ]
  },
  {
   "cell_type": "code",
   "execution_count": 22,
   "metadata": {},
   "outputs": [],
   "source": [
    "data = [train_df, test_df]\n",
    "\n",
    "for dataset in data:\n",
    "    dataset['Pclass'] = dataset['Pclass'].astype(str)\n",
    "    dataset.loc[ dataset['Pclass'] == '1', 'Pclass'] = \"Class1\"\n",
    "    dataset.loc[ dataset['Pclass'] == '2', 'Pclass'] = \"Class2\"\n",
    "    dataset.loc[ dataset['Pclass'] == '3', 'Pclass'] = \"Class3\""
   ]
  },
  {
   "cell_type": "code",
   "execution_count": 23,
   "metadata": {},
   "outputs": [],
   "source": [
    "train_df = train_df.drop(['PassengerId'], axis=1)"
   ]
  },
  {
   "cell_type": "code",
   "execution_count": 24,
   "metadata": {},
   "outputs": [],
   "source": [
    "train_df = train_df.drop(['Ticket'], axis=1)"
   ]
  },
  {
   "cell_type": "code",
   "execution_count": 25,
   "metadata": {},
   "outputs": [
    {
     "name": "stdout",
     "output_type": "stream",
     "text": [
      "<class 'pandas.core.frame.DataFrame'>\n",
      "RangeIndex: 891 entries, 0 to 890\n",
      "Data columns (total 14 columns):\n",
      " #   Column           Non-Null Count  Dtype \n",
      "---  ------           --------------  ----- \n",
      " 0   Survived         891 non-null    int64 \n",
      " 1   Pclass           891 non-null    object\n",
      " 2   Sex              891 non-null    object\n",
      " 3   Age              891 non-null    object\n",
      " 4   SibSp            891 non-null    int64 \n",
      " 5   Parch            891 non-null    int64 \n",
      " 6   Fare             891 non-null    object\n",
      " 7   Embarked         891 non-null    object\n",
      " 8   Relatives        891 non-null    int64 \n",
      " 9   Alone            891 non-null    object\n",
      " 10  Deck             891 non-null    object\n",
      " 11  Title            891 non-null    object\n",
      " 12  Age_Class        891 non-null    int64 \n",
      " 13  Fare_Per_Person  891 non-null    int32 \n",
      "dtypes: int32(1), int64(5), object(8)\n",
      "memory usage: 94.1+ KB\n"
     ]
    }
   ],
   "source": [
    "train_df.info()"
   ]
  },
  {
   "cell_type": "code",
   "execution_count": 26,
   "metadata": {},
   "outputs": [],
   "source": [
    "test_df = test_df.drop(['Ticket'], axis=1)"
   ]
  },
  {
   "cell_type": "code",
   "execution_count": 27,
   "metadata": {},
   "outputs": [
    {
     "name": "stdout",
     "output_type": "stream",
     "text": [
      "<class 'pandas.core.frame.DataFrame'>\n",
      "RangeIndex: 418 entries, 0 to 417\n",
      "Data columns (total 14 columns):\n",
      " #   Column           Non-Null Count  Dtype \n",
      "---  ------           --------------  ----- \n",
      " 0   PassengerId      418 non-null    int64 \n",
      " 1   Pclass           418 non-null    object\n",
      " 2   Sex              418 non-null    object\n",
      " 3   Age              418 non-null    object\n",
      " 4   SibSp            418 non-null    int64 \n",
      " 5   Parch            418 non-null    int64 \n",
      " 6   Fare             418 non-null    object\n",
      " 7   Embarked         418 non-null    object\n",
      " 8   Relatives        418 non-null    int64 \n",
      " 9   Alone            418 non-null    object\n",
      " 10  Deck             418 non-null    object\n",
      " 11  Title            418 non-null    object\n",
      " 12  Age_Class        418 non-null    int64 \n",
      " 13  Fare_Per_Person  418 non-null    int32 \n",
      "dtypes: int32(1), int64(5), object(8)\n",
      "memory usage: 44.2+ KB\n"
     ]
    }
   ],
   "source": [
    "test_df.info()"
   ]
  },
  {
   "cell_type": "code",
   "execution_count": 28,
   "metadata": {},
   "outputs": [
    {
     "data": {
      "text/plain": [
       "['Survived', 'SibSp', 'Parch', 'Relatives', 'Age_Class', 'Fare_Per_Person']"
      ]
     },
     "execution_count": 28,
     "metadata": {},
     "output_type": "execute_result"
    }
   ],
   "source": [
    "train_numerical_features = list(train_df.select_dtypes(include=['int64', 'float64', 'int32']).columns)\n",
    "train_numerical_features"
   ]
  },
  {
   "cell_type": "code",
   "execution_count": 29,
   "metadata": {},
   "outputs": [
    {
     "data": {
      "text/plain": [
       "['SibSp', 'Parch', 'Relatives', 'Age_Class', 'Fare_Per_Person']"
      ]
     },
     "execution_count": 29,
     "metadata": {},
     "output_type": "execute_result"
    }
   ],
   "source": [
    "del train_numerical_features[0]\n",
    "train_numerical_features"
   ]
  },
  {
   "cell_type": "code",
   "execution_count": 30,
   "metadata": {},
   "outputs": [],
   "source": [
    "from sklearn.preprocessing import StandardScaler, MinMaxScaler, LabelBinarizer\n",
    "ss_scaler = StandardScaler()\n",
    "train_df_ss = pd.DataFrame(data = train_df)\n",
    "train_df_ss[train_numerical_features] = ss_scaler.fit_transform(train_df_ss[train_numerical_features])"
   ]
  },
  {
   "cell_type": "code",
   "execution_count": 31,
   "metadata": {},
   "outputs": [
    {
     "data": {
      "text/plain": [
       "['PassengerId', 'SibSp', 'Parch', 'Relatives', 'Age_Class', 'Fare_Per_Person']"
      ]
     },
     "execution_count": 31,
     "metadata": {},
     "output_type": "execute_result"
    }
   ],
   "source": [
    "test_numerical_features = list(test_df.select_dtypes(include=['int64', 'float64', 'int32']).columns)\n",
    "test_numerical_features"
   ]
  },
  {
   "cell_type": "code",
   "execution_count": 32,
   "metadata": {},
   "outputs": [
    {
     "data": {
      "text/plain": [
       "(891, 14)"
      ]
     },
     "execution_count": 32,
     "metadata": {},
     "output_type": "execute_result"
    }
   ],
   "source": [
    "train_df_ss.shape"
   ]
  },
  {
   "cell_type": "code",
   "execution_count": 33,
   "metadata": {},
   "outputs": [
    {
     "data": {
      "text/plain": [
       "['SibSp', 'Parch', 'Relatives', 'Age_Class', 'Fare_Per_Person']"
      ]
     },
     "execution_count": 33,
     "metadata": {},
     "output_type": "execute_result"
    }
   ],
   "source": [
    "del test_numerical_features[0]\n",
    "test_numerical_features"
   ]
  },
  {
   "cell_type": "code",
   "execution_count": 34,
   "metadata": {},
   "outputs": [],
   "source": [
    "test_ss_scaler = StandardScaler()\n",
    "test_df_ss = pd.DataFrame(data = test_df)\n",
    "test_df_ss[test_numerical_features] = test_ss_scaler.fit_transform(test_df_ss[test_numerical_features])"
   ]
  },
  {
   "cell_type": "code",
   "execution_count": 35,
   "metadata": {},
   "outputs": [
    {
     "data": {
      "text/plain": [
       "(418, 14)"
      ]
     },
     "execution_count": 35,
     "metadata": {},
     "output_type": "execute_result"
    }
   ],
   "source": [
    "test_df_ss.shape"
   ]
  },
  {
   "cell_type": "code",
   "execution_count": 36,
   "metadata": {},
   "outputs": [],
   "source": [
    "encode_col_list = list(train_df.select_dtypes(include=['object']).columns)\n",
    "for i in encode_col_list:\n",
    "    train_df_ss = pd.concat([train_df_ss,pd.get_dummies(train_df_ss[i], prefix=i)],axis=1)\n",
    "    train_df_ss.drop(i, axis = 1, inplace=True)"
   ]
  },
  {
   "cell_type": "code",
   "execution_count": 42,
   "metadata": {},
   "outputs": [],
   "source": [
    "train_df_ss.to_csv(r\"C:\\Users\\dipes\\Documents\\dataset\\titanic\\trainset.csv\", index=False)"
   ]
  },
  {
   "cell_type": "code",
   "execution_count": 37,
   "metadata": {},
   "outputs": [
    {
     "data": {
      "text/html": [
       "<div>\n",
       "<style scoped>\n",
       "    .dataframe tbody tr th:only-of-type {\n",
       "        vertical-align: middle;\n",
       "    }\n",
       "\n",
       "    .dataframe tbody tr th {\n",
       "        vertical-align: top;\n",
       "    }\n",
       "\n",
       "    .dataframe thead th {\n",
       "        text-align: right;\n",
       "    }\n",
       "</style>\n",
       "<table border=\"1\" class=\"dataframe\">\n",
       "  <thead>\n",
       "    <tr style=\"text-align: right;\">\n",
       "      <th></th>\n",
       "      <th>Survived</th>\n",
       "      <th>SibSp</th>\n",
       "      <th>Parch</th>\n",
       "      <th>Relatives</th>\n",
       "      <th>Age_Class</th>\n",
       "      <th>Fare_Per_Person</th>\n",
       "      <th>Pclass_Class1</th>\n",
       "      <th>Pclass_Class2</th>\n",
       "      <th>Pclass_Class3</th>\n",
       "      <th>Sex_female</th>\n",
       "      <th>...</th>\n",
       "      <th>Deck_D</th>\n",
       "      <th>Deck_E</th>\n",
       "      <th>Deck_F</th>\n",
       "      <th>Deck_G</th>\n",
       "      <th>Deck_U</th>\n",
       "      <th>Title_Master</th>\n",
       "      <th>Title_Miss</th>\n",
       "      <th>Title_Mr</th>\n",
       "      <th>Title_Mrs</th>\n",
       "      <th>Title_Rare</th>\n",
       "    </tr>\n",
       "  </thead>\n",
       "  <tbody>\n",
       "    <tr>\n",
       "      <th>0</th>\n",
       "      <td>0</td>\n",
       "      <td>0.432793</td>\n",
       "      <td>-0.473674</td>\n",
       "      <td>0.059160</td>\n",
       "      <td>0.059429</td>\n",
       "      <td>-0.459218</td>\n",
       "      <td>0</td>\n",
       "      <td>0</td>\n",
       "      <td>1</td>\n",
       "      <td>0</td>\n",
       "      <td>...</td>\n",
       "      <td>0</td>\n",
       "      <td>0</td>\n",
       "      <td>0</td>\n",
       "      <td>0</td>\n",
       "      <td>1</td>\n",
       "      <td>0</td>\n",
       "      <td>0</td>\n",
       "      <td>1</td>\n",
       "      <td>0</td>\n",
       "      <td>0</td>\n",
       "    </tr>\n",
       "    <tr>\n",
       "      <th>1</th>\n",
       "      <td>1</td>\n",
       "      <td>0.432793</td>\n",
       "      <td>-0.473674</td>\n",
       "      <td>0.059160</td>\n",
       "      <td>-0.774447</td>\n",
       "      <td>0.434090</td>\n",
       "      <td>1</td>\n",
       "      <td>0</td>\n",
       "      <td>0</td>\n",
       "      <td>1</td>\n",
       "      <td>...</td>\n",
       "      <td>0</td>\n",
       "      <td>0</td>\n",
       "      <td>0</td>\n",
       "      <td>0</td>\n",
       "      <td>0</td>\n",
       "      <td>0</td>\n",
       "      <td>0</td>\n",
       "      <td>0</td>\n",
       "      <td>1</td>\n",
       "      <td>0</td>\n",
       "    </tr>\n",
       "    <tr>\n",
       "      <th>2</th>\n",
       "      <td>1</td>\n",
       "      <td>-0.474545</td>\n",
       "      <td>-0.473674</td>\n",
       "      <td>-0.560975</td>\n",
       "      <td>0.416804</td>\n",
       "      <td>-0.347554</td>\n",
       "      <td>0</td>\n",
       "      <td>0</td>\n",
       "      <td>1</td>\n",
       "      <td>1</td>\n",
       "      <td>...</td>\n",
       "      <td>0</td>\n",
       "      <td>0</td>\n",
       "      <td>0</td>\n",
       "      <td>0</td>\n",
       "      <td>1</td>\n",
       "      <td>0</td>\n",
       "      <td>1</td>\n",
       "      <td>0</td>\n",
       "      <td>0</td>\n",
       "      <td>0</td>\n",
       "    </tr>\n",
       "    <tr>\n",
       "      <th>3</th>\n",
       "      <td>1</td>\n",
       "      <td>0.432793</td>\n",
       "      <td>-0.473674</td>\n",
       "      <td>0.059160</td>\n",
       "      <td>-0.863791</td>\n",
       "      <td>0.182847</td>\n",
       "      <td>1</td>\n",
       "      <td>0</td>\n",
       "      <td>0</td>\n",
       "      <td>1</td>\n",
       "      <td>...</td>\n",
       "      <td>0</td>\n",
       "      <td>0</td>\n",
       "      <td>0</td>\n",
       "      <td>0</td>\n",
       "      <td>0</td>\n",
       "      <td>0</td>\n",
       "      <td>0</td>\n",
       "      <td>0</td>\n",
       "      <td>1</td>\n",
       "      <td>0</td>\n",
       "    </tr>\n",
       "    <tr>\n",
       "      <th>4</th>\n",
       "      <td>0</td>\n",
       "      <td>-0.474545</td>\n",
       "      <td>-0.473674</td>\n",
       "      <td>-0.560975</td>\n",
       "      <td>1.220899</td>\n",
       "      <td>-0.319638</td>\n",
       "      <td>0</td>\n",
       "      <td>0</td>\n",
       "      <td>1</td>\n",
       "      <td>0</td>\n",
       "      <td>...</td>\n",
       "      <td>0</td>\n",
       "      <td>0</td>\n",
       "      <td>0</td>\n",
       "      <td>0</td>\n",
       "      <td>1</td>\n",
       "      <td>0</td>\n",
       "      <td>0</td>\n",
       "      <td>1</td>\n",
       "      <td>0</td>\n",
       "      <td>0</td>\n",
       "    </tr>\n",
       "    <tr>\n",
       "      <th>...</th>\n",
       "      <td>...</td>\n",
       "      <td>...</td>\n",
       "      <td>...</td>\n",
       "      <td>...</td>\n",
       "      <td>...</td>\n",
       "      <td>...</td>\n",
       "      <td>...</td>\n",
       "      <td>...</td>\n",
       "      <td>...</td>\n",
       "      <td>...</td>\n",
       "      <td>...</td>\n",
       "      <td>...</td>\n",
       "      <td>...</td>\n",
       "      <td>...</td>\n",
       "      <td>...</td>\n",
       "      <td>...</td>\n",
       "      <td>...</td>\n",
       "      <td>...</td>\n",
       "      <td>...</td>\n",
       "      <td>...</td>\n",
       "      <td>...</td>\n",
       "    </tr>\n",
       "    <tr>\n",
       "      <th>886</th>\n",
       "      <td>0</td>\n",
       "      <td>-0.474545</td>\n",
       "      <td>-0.473674</td>\n",
       "      <td>-0.560975</td>\n",
       "      <td>-0.297947</td>\n",
       "      <td>-0.180059</td>\n",
       "      <td>0</td>\n",
       "      <td>1</td>\n",
       "      <td>0</td>\n",
       "      <td>0</td>\n",
       "      <td>...</td>\n",
       "      <td>0</td>\n",
       "      <td>0</td>\n",
       "      <td>0</td>\n",
       "      <td>0</td>\n",
       "      <td>1</td>\n",
       "      <td>0</td>\n",
       "      <td>0</td>\n",
       "      <td>0</td>\n",
       "      <td>0</td>\n",
       "      <td>1</td>\n",
       "    </tr>\n",
       "    <tr>\n",
       "      <th>887</th>\n",
       "      <td>1</td>\n",
       "      <td>-0.474545</td>\n",
       "      <td>-0.473674</td>\n",
       "      <td>-0.560975</td>\n",
       "      <td>-1.340292</td>\n",
       "      <td>0.294511</td>\n",
       "      <td>1</td>\n",
       "      <td>0</td>\n",
       "      <td>0</td>\n",
       "      <td>1</td>\n",
       "      <td>...</td>\n",
       "      <td>0</td>\n",
       "      <td>0</td>\n",
       "      <td>0</td>\n",
       "      <td>0</td>\n",
       "      <td>0</td>\n",
       "      <td>0</td>\n",
       "      <td>1</td>\n",
       "      <td>0</td>\n",
       "      <td>0</td>\n",
       "      <td>0</td>\n",
       "    </tr>\n",
       "    <tr>\n",
       "      <th>888</th>\n",
       "      <td>0</td>\n",
       "      <td>0.432793</td>\n",
       "      <td>2.008933</td>\n",
       "      <td>1.299429</td>\n",
       "      <td>0.416804</td>\n",
       "      <td>-0.403386</td>\n",
       "      <td>0</td>\n",
       "      <td>0</td>\n",
       "      <td>1</td>\n",
       "      <td>1</td>\n",
       "      <td>...</td>\n",
       "      <td>0</td>\n",
       "      <td>0</td>\n",
       "      <td>0</td>\n",
       "      <td>0</td>\n",
       "      <td>1</td>\n",
       "      <td>0</td>\n",
       "      <td>1</td>\n",
       "      <td>0</td>\n",
       "      <td>0</td>\n",
       "      <td>0</td>\n",
       "    </tr>\n",
       "    <tr>\n",
       "      <th>889</th>\n",
       "      <td>1</td>\n",
       "      <td>-0.474545</td>\n",
       "      <td>-0.473674</td>\n",
       "      <td>-0.560975</td>\n",
       "      <td>-1.131823</td>\n",
       "      <td>0.294511</td>\n",
       "      <td>1</td>\n",
       "      <td>0</td>\n",
       "      <td>0</td>\n",
       "      <td>0</td>\n",
       "      <td>...</td>\n",
       "      <td>0</td>\n",
       "      <td>0</td>\n",
       "      <td>0</td>\n",
       "      <td>0</td>\n",
       "      <td>0</td>\n",
       "      <td>0</td>\n",
       "      <td>0</td>\n",
       "      <td>1</td>\n",
       "      <td>0</td>\n",
       "      <td>0</td>\n",
       "    </tr>\n",
       "    <tr>\n",
       "      <th>890</th>\n",
       "      <td>0</td>\n",
       "      <td>-0.474545</td>\n",
       "      <td>-0.473674</td>\n",
       "      <td>-0.560975</td>\n",
       "      <td>0.952868</td>\n",
       "      <td>-0.347554</td>\n",
       "      <td>0</td>\n",
       "      <td>0</td>\n",
       "      <td>1</td>\n",
       "      <td>0</td>\n",
       "      <td>...</td>\n",
       "      <td>0</td>\n",
       "      <td>0</td>\n",
       "      <td>0</td>\n",
       "      <td>0</td>\n",
       "      <td>1</td>\n",
       "      <td>0</td>\n",
       "      <td>0</td>\n",
       "      <td>1</td>\n",
       "      <td>0</td>\n",
       "      <td>0</td>\n",
       "    </tr>\n",
       "  </tbody>\n",
       "</table>\n",
       "<p>891 rows × 43 columns</p>\n",
       "</div>"
      ],
      "text/plain": [
       "     Survived     SibSp     Parch  Relatives  Age_Class  Fare_Per_Person  \\\n",
       "0           0  0.432793 -0.473674   0.059160   0.059429        -0.459218   \n",
       "1           1  0.432793 -0.473674   0.059160  -0.774447         0.434090   \n",
       "2           1 -0.474545 -0.473674  -0.560975   0.416804        -0.347554   \n",
       "3           1  0.432793 -0.473674   0.059160  -0.863791         0.182847   \n",
       "4           0 -0.474545 -0.473674  -0.560975   1.220899        -0.319638   \n",
       "..        ...       ...       ...        ...        ...              ...   \n",
       "886         0 -0.474545 -0.473674  -0.560975  -0.297947        -0.180059   \n",
       "887         1 -0.474545 -0.473674  -0.560975  -1.340292         0.294511   \n",
       "888         0  0.432793  2.008933   1.299429   0.416804        -0.403386   \n",
       "889         1 -0.474545 -0.473674  -0.560975  -1.131823         0.294511   \n",
       "890         0 -0.474545 -0.473674  -0.560975   0.952868        -0.347554   \n",
       "\n",
       "     Pclass_Class1  Pclass_Class2  Pclass_Class3  Sex_female  ...  Deck_D  \\\n",
       "0                0              0              1           0  ...       0   \n",
       "1                1              0              0           1  ...       0   \n",
       "2                0              0              1           1  ...       0   \n",
       "3                1              0              0           1  ...       0   \n",
       "4                0              0              1           0  ...       0   \n",
       "..             ...            ...            ...         ...  ...     ...   \n",
       "886              0              1              0           0  ...       0   \n",
       "887              1              0              0           1  ...       0   \n",
       "888              0              0              1           1  ...       0   \n",
       "889              1              0              0           0  ...       0   \n",
       "890              0              0              1           0  ...       0   \n",
       "\n",
       "     Deck_E  Deck_F  Deck_G  Deck_U  Title_Master  Title_Miss  Title_Mr  \\\n",
       "0         0       0       0       1             0           0         1   \n",
       "1         0       0       0       0             0           0         0   \n",
       "2         0       0       0       1             0           1         0   \n",
       "3         0       0       0       0             0           0         0   \n",
       "4         0       0       0       1             0           0         1   \n",
       "..      ...     ...     ...     ...           ...         ...       ...   \n",
       "886       0       0       0       1             0           0         0   \n",
       "887       0       0       0       0             0           1         0   \n",
       "888       0       0       0       1             0           1         0   \n",
       "889       0       0       0       0             0           0         1   \n",
       "890       0       0       0       1             0           0         1   \n",
       "\n",
       "     Title_Mrs  Title_Rare  \n",
       "0            0           0  \n",
       "1            1           0  \n",
       "2            0           0  \n",
       "3            1           0  \n",
       "4            0           0  \n",
       "..         ...         ...  \n",
       "886          0           1  \n",
       "887          0           0  \n",
       "888          0           0  \n",
       "889          0           0  \n",
       "890          0           0  \n",
       "\n",
       "[891 rows x 43 columns]"
      ]
     },
     "execution_count": 37,
     "metadata": {},
     "output_type": "execute_result"
    }
   ],
   "source": [
    "train_df_ss"
   ]
  },
  {
   "cell_type": "code",
   "execution_count": 38,
   "metadata": {},
   "outputs": [],
   "source": [
    "test_encode_col_list = list(test_df.select_dtypes(include=['object']).columns)\n",
    "for i in test_encode_col_list:\n",
    "    test_df_ss = pd.concat([test_df_ss,pd.get_dummies(test_df_ss[i], prefix=i)],axis=1)\n",
    "    test_df_ss.drop(i, axis = 1, inplace=True)"
   ]
  },
  {
   "cell_type": "code",
   "execution_count": 39,
   "metadata": {},
   "outputs": [
    {
     "data": {
      "text/plain": [
       "(418, 43)"
      ]
     },
     "execution_count": 39,
     "metadata": {},
     "output_type": "execute_result"
    }
   ],
   "source": [
    "test_df_ss.shape"
   ]
  },
  {
   "cell_type": "code",
   "execution_count": 40,
   "metadata": {},
   "outputs": [],
   "source": [
    "test_df_ss.to_csv(r\"C:\\Users\\dipes\\Documents\\dataset\\titanic\\testset.csv\", index=False)"
   ]
  },
  {
   "cell_type": "code",
   "execution_count": 40,
   "metadata": {},
   "outputs": [],
   "source": [
    "X_train = train_df_ss.drop(\"Survived\", axis=1)\n",
    "Y_train = train_df_ss[\"Survived\"]\n",
    "X_test  = test_df_ss.drop(\"PassengerId\", axis=1).copy()"
   ]
  },
  {
   "cell_type": "code",
   "execution_count": 41,
   "metadata": {},
   "outputs": [
    {
     "data": {
      "text/plain": [
       "((891, 42), (418, 42), (891,))"
      ]
     },
     "execution_count": 41,
     "metadata": {},
     "output_type": "execute_result"
    }
   ],
   "source": [
    "X_train.shape, X_test.shape, Y_train.shape"
   ]
  },
  {
   "cell_type": "code",
   "execution_count": 42,
   "metadata": {},
   "outputs": [],
   "source": [
    "from sklearn.model_selection import train_test_split\n",
    "trainx,testx,trainy,testy = train_test_split(X_train,Y_train,test_size=0.2,random_state=42)"
   ]
  },
  {
   "cell_type": "code",
   "execution_count": 43,
   "metadata": {},
   "outputs": [],
   "source": [
    "from sklearn.ensemble import RandomForestClassifier\n",
    "rfc = RandomForestClassifier(criterion='gini', max_depth=8, min_samples_leaf=2, min_samples_split=4, n_estimators=500, n_jobs=1)\n",
    "rfc.fit(trainx, trainy)\n",
    "y_pred = rfc.predict(testx)"
   ]
  },
  {
   "cell_type": "code",
   "execution_count": 44,
   "metadata": {},
   "outputs": [
    {
     "data": {
      "text/plain": [
       "0.8268156424581006"
      ]
     },
     "execution_count": 44,
     "metadata": {},
     "output_type": "execute_result"
    }
   ],
   "source": [
    "from sklearn.metrics import accuracy_score\n",
    "accuracy_score(testy, y_pred)"
   ]
  },
  {
   "cell_type": "code",
   "execution_count": 45,
   "metadata": {},
   "outputs": [
    {
     "data": {
      "text/plain": [
       "0.8156424581005587"
      ]
     },
     "execution_count": 45,
     "metadata": {},
     "output_type": "execute_result"
    }
   ],
   "source": [
    "from sklearn.linear_model import LogisticRegression\n",
    "logreg = LogisticRegression()\n",
    "logreg.fit(trainx, trainy)\n",
    "pred = logreg.predict(testx)\n",
    "accuracy_score(testy, pred)"
   ]
  },
  {
   "cell_type": "code",
   "execution_count": 46,
   "metadata": {},
   "outputs": [
    {
     "data": {
      "text/plain": [
       "0.8156424581005587"
      ]
     },
     "execution_count": 46,
     "metadata": {},
     "output_type": "execute_result"
    }
   ],
   "source": [
    "from sklearn import svm\n",
    "rbf_svc = svm.SVC(kernel='rbf')\n",
    "rbf_svc.fit(trainx, trainy)\n",
    "preds=rbf_svc.predict(testx)\n",
    "accuracy_score(testy, preds)"
   ]
  },
  {
   "cell_type": "code",
   "execution_count": 47,
   "metadata": {},
   "outputs": [
    {
     "data": {
      "text/plain": [
       "0.8324022346368715"
      ]
     },
     "execution_count": 47,
     "metadata": {},
     "output_type": "execute_result"
    }
   ],
   "source": [
    "from sklearn.tree import DecisionTreeClassifier\n",
    "dtc = DecisionTreeClassifier(criterion='entropy', max_depth=5, min_samples_leaf=3, min_samples_split=5)\n",
    "dtc.fit(trainx, trainy)\n",
    "preds= dtc.predict(testx)\n",
    "accuracy_score(testy, preds)"
   ]
  },
  {
   "cell_type": "code",
   "execution_count": 54,
   "metadata": {},
   "outputs": [
    {
     "data": {
      "text/plain": [
       "0.8324022346368715"
      ]
     },
     "execution_count": 54,
     "metadata": {},
     "output_type": "execute_result"
    }
   ],
   "source": [
    "from sklearn.neighbors import KNeighborsClassifier\n",
    "knn = KNeighborsClassifier(n_neighbors=5)\n",
    "knn.fit(trainx, trainy)\n",
    "knn.score(testx, testy)"
   ]
  }
 ],
 "metadata": {
  "kernelspec": {
   "display_name": "Python 3",
   "language": "python",
   "name": "python3"
  },
  "language_info": {
   "codemirror_mode": {
    "name": "ipython",
    "version": 3
   },
   "file_extension": ".py",
   "mimetype": "text/x-python",
   "name": "python",
   "nbconvert_exporter": "python",
   "pygments_lexer": "ipython3",
   "version": "3.7.4"
  }
 },
 "nbformat": 4,
 "nbformat_minor": 2
}
